{
 "cells": [
  {
   "cell_type": "markdown",
   "metadata": {},
   "source": [
    "# Christopher Prince [cmp670@nyu.edu]\n",
    "## MATH.2012 HW 2\n",
    "\n",
    "### _Preliminaries_"
   ]
  },
  {
   "cell_type": "code",
   "execution_count": 1,
   "metadata": {
    "collapsed": true
   },
   "outputs": [],
   "source": [
    "import pandas as pd\n",
    "import numpy as np\n",
    "import os"
   ]
  },
  {
   "cell_type": "code",
   "execution_count": 2,
   "metadata": {
    "collapsed": false
   },
   "outputs": [],
   "source": [
    "import pylab as pl\n",
    "%matplotlib inline"
   ]
  },
  {
   "cell_type": "markdown",
   "metadata": {},
   "source": [
    "## Source files and reproducibility\n",
    "\n",
    "The program has been packaged with a make file and a bash script to run the experiment on a given machine. The process is:\n",
    "\n",
    "* Clone the github repo cmprince/hpc17 (files are in the hw2 directory).\n",
    "* Run `make`.\n",
    "* Run `runlaplace.sh` (if necessary change file permissions). This runs both Gauss-Seidel and Jacobi iterations for $N \\in \\{50, 100, 1000\\}$, repeating 5 times, and writes the results of each run to a file."
   ]
  },
  {
   "cell_type": "markdown",
   "metadata": {},
   "source": [
    "----"
   ]
  },
  {
   "cell_type": "markdown",
   "metadata": {},
   "source": [
    "## Architectures"
   ]
  },
  {
   "cell_type": "markdown",
   "metadata": {},
   "source": [
    "The tests were run on 4 different machines: my personal laptop, a server at NYU-CUSP, and two servers at CIMS. The specifications for the CUSP server was obtained from datahub.cusp.nyu.edu, and for the CIMS server from cims.nyu.edu. Additionally, on brawler, versions of the codes without paralellizing the residual calculations were run seperately to see the effect on performance.\n",
    "\n",
    "| Machine  | Owner | Processor        | No. Processors | No. Cores/Proc. | Freq. (GHz) | Memory (GB) | Operating System |\n",
    "|----------|-------|------------------|----------------|-----------------|-------------|-------------|----|\n",
    "| brawler  | CIMS  | AMD Opteron      | 2              | 2               | 2.6         | 8           | RHEL Server 6.8\n",
    "| compute  | CUSP  | Xeon E5-4640     | 4              | 8               | 2.40        | 1024        | Oracle Linux Server 6.4\n",
    "| crunchy4 | CIMS  | AMD Opteron 6136 | 4              | 8               | 2.4         | 128         | RHEL Server 6.8\n",
    "| laptop   | Me    | Xeon E3-1505M v5 | 1              | 4               | 2.80        | 64          | Ubuntu 16.04 LTS"
   ]
  },
  {
   "cell_type": "markdown",
   "metadata": {},
   "source": [
    "## Results and observations"
   ]
  },
  {
   "cell_type": "markdown",
   "metadata": {},
   "source": [
    "### Timing results\n",
    "The results files are space-delimited with the following columns:"
   ]
  },
  {
   "cell_type": "code",
   "execution_count": 3,
   "metadata": {
    "collapsed": true
   },
   "outputs": [],
   "source": [
    "names=['N','run','usec']"
   ]
  },
  {
   "cell_type": "markdown",
   "metadata": {},
   "source": [
    "Note timings are reported in $\\mu$sec. Uncomment the cell below to retrieve the sample data used in this notebook:"
   ]
  },
  {
   "cell_type": "code",
   "execution_count": 4,
   "metadata": {
    "collapsed": false
   },
   "outputs": [],
   "source": [
    "#!wget -r -l1 -np -nd -R index.html?*,html -e robots=off https://www.cims.nyu.edu/~cmp670/hw2_output/"
   ]
  },
  {
   "cell_type": "markdown",
   "metadata": {},
   "source": [
    "Read the files in as dataframes and merge the timing columns, starting with Gauss-Seidel:"
   ]
  },
  {
   "cell_type": "code",
   "execution_count": 5,
   "metadata": {
    "collapsed": false
   },
   "outputs": [],
   "source": [
    "gb = pd.read_csv(\"jacobi2D-omp_laptop\", header=None, delimiter=\" \", names=names).drop(\"usec\", axis=1)"
   ]
  },
  {
   "cell_type": "code",
   "execution_count": 6,
   "metadata": {
    "collapsed": false
   },
   "outputs": [],
   "source": [
    "for f in sorted(os.listdir('.')):\n",
    "    if f[:13]==\"jacobi2D-omp_\":\n",
    "        g = pd.read_csv(f, header=None, delimiter=\" \",names=names[:-1] + [f])\n",
    "        gb = gb.merge(g, on=names[:-1])"
   ]
  },
  {
   "cell_type": "code",
   "execution_count": 7,
   "metadata": {
    "collapsed": false
   },
   "outputs": [
    {
     "data": {
      "text/html": [
       "<div>\n",
       "<table border=\"1\" class=\"dataframe\">\n",
       "  <thead>\n",
       "    <tr style=\"text-align: right;\">\n",
       "      <th></th>\n",
       "      <th>N</th>\n",
       "      <th>run</th>\n",
       "      <th>jacobi2D-omp_brawler</th>\n",
       "      <th>jacobi2D-omp_brawler_no_l2norm_parallel</th>\n",
       "      <th>jacobi2D-omp_crunchy4</th>\n",
       "      <th>jacobi2D-omp_laptop</th>\n",
       "      <th>jacobi2D-omp_mauler</th>\n",
       "    </tr>\n",
       "  </thead>\n",
       "  <tbody>\n",
       "    <tr>\n",
       "      <th>0</th>\n",
       "      <td>50</td>\n",
       "      <td>1</td>\n",
       "      <td>64098</td>\n",
       "      <td>122950</td>\n",
       "      <td>3869467</td>\n",
       "      <td>79251</td>\n",
       "      <td>64626</td>\n",
       "    </tr>\n",
       "    <tr>\n",
       "      <th>1</th>\n",
       "      <td>50</td>\n",
       "      <td>2</td>\n",
       "      <td>62954</td>\n",
       "      <td>324677</td>\n",
       "      <td>3903125</td>\n",
       "      <td>25442</td>\n",
       "      <td>62799</td>\n",
       "    </tr>\n",
       "    <tr>\n",
       "      <th>2</th>\n",
       "      <td>50</td>\n",
       "      <td>3</td>\n",
       "      <td>62743</td>\n",
       "      <td>122595</td>\n",
       "      <td>3926278</td>\n",
       "      <td>24723</td>\n",
       "      <td>64779</td>\n",
       "    </tr>\n",
       "    <tr>\n",
       "      <th>3</th>\n",
       "      <td>50</td>\n",
       "      <td>4</td>\n",
       "      <td>64429</td>\n",
       "      <td>122490</td>\n",
       "      <td>3864763</td>\n",
       "      <td>21033</td>\n",
       "      <td>64820</td>\n",
       "    </tr>\n",
       "    <tr>\n",
       "      <th>4</th>\n",
       "      <td>50</td>\n",
       "      <td>5</td>\n",
       "      <td>62655</td>\n",
       "      <td>122655</td>\n",
       "      <td>3871138</td>\n",
       "      <td>20687</td>\n",
       "      <td>63231</td>\n",
       "    </tr>\n",
       "    <tr>\n",
       "      <th>5</th>\n",
       "      <td>100</td>\n",
       "      <td>1</td>\n",
       "      <td>225179</td>\n",
       "      <td>492691</td>\n",
       "      <td>3942070</td>\n",
       "      <td>73839</td>\n",
       "      <td>225253</td>\n",
       "    </tr>\n",
       "    <tr>\n",
       "      <th>6</th>\n",
       "      <td>100</td>\n",
       "      <td>2</td>\n",
       "      <td>224954</td>\n",
       "      <td>685548</td>\n",
       "      <td>3914154</td>\n",
       "      <td>72827</td>\n",
       "      <td>225845</td>\n",
       "    </tr>\n",
       "    <tr>\n",
       "      <th>7</th>\n",
       "      <td>100</td>\n",
       "      <td>3</td>\n",
       "      <td>230868</td>\n",
       "      <td>1062484</td>\n",
       "      <td>405486</td>\n",
       "      <td>76498</td>\n",
       "      <td>225949</td>\n",
       "    </tr>\n",
       "    <tr>\n",
       "      <th>8</th>\n",
       "      <td>100</td>\n",
       "      <td>4</td>\n",
       "      <td>230655</td>\n",
       "      <td>596687</td>\n",
       "      <td>3895513</td>\n",
       "      <td>72453</td>\n",
       "      <td>230387</td>\n",
       "    </tr>\n",
       "    <tr>\n",
       "      <th>9</th>\n",
       "      <td>100</td>\n",
       "      <td>5</td>\n",
       "      <td>224027</td>\n",
       "      <td>579145</td>\n",
       "      <td>3924761</td>\n",
       "      <td>78413</td>\n",
       "      <td>225295</td>\n",
       "    </tr>\n",
       "    <tr>\n",
       "      <th>10</th>\n",
       "      <td>1000</td>\n",
       "      <td>1</td>\n",
       "      <td>21845399</td>\n",
       "      <td>47086142</td>\n",
       "      <td>6944077</td>\n",
       "      <td>7032157</td>\n",
       "      <td>22376295</td>\n",
       "    </tr>\n",
       "    <tr>\n",
       "      <th>11</th>\n",
       "      <td>1000</td>\n",
       "      <td>2</td>\n",
       "      <td>22503545</td>\n",
       "      <td>47557294</td>\n",
       "      <td>6916533</td>\n",
       "      <td>6291400</td>\n",
       "      <td>23219363</td>\n",
       "    </tr>\n",
       "    <tr>\n",
       "      <th>12</th>\n",
       "      <td>1000</td>\n",
       "      <td>3</td>\n",
       "      <td>22449011</td>\n",
       "      <td>47027564</td>\n",
       "      <td>7054551</td>\n",
       "      <td>6769999</td>\n",
       "      <td>22188391</td>\n",
       "    </tr>\n",
       "    <tr>\n",
       "      <th>13</th>\n",
       "      <td>1000</td>\n",
       "      <td>4</td>\n",
       "      <td>21808371</td>\n",
       "      <td>46989342</td>\n",
       "      <td>5993197</td>\n",
       "      <td>6500057</td>\n",
       "      <td>21984691</td>\n",
       "    </tr>\n",
       "    <tr>\n",
       "      <th>14</th>\n",
       "      <td>1000</td>\n",
       "      <td>5</td>\n",
       "      <td>21793035</td>\n",
       "      <td>47565443</td>\n",
       "      <td>7056586</td>\n",
       "      <td>6462039</td>\n",
       "      <td>21998788</td>\n",
       "    </tr>\n",
       "  </tbody>\n",
       "</table>\n",
       "</div>"
      ],
      "text/plain": [
       "       N  run  jacobi2D-omp_brawler  jacobi2D-omp_brawler_no_l2norm_parallel  \\\n",
       "0     50    1                 64098                                   122950   \n",
       "1     50    2                 62954                                   324677   \n",
       "2     50    3                 62743                                   122595   \n",
       "3     50    4                 64429                                   122490   \n",
       "4     50    5                 62655                                   122655   \n",
       "5    100    1                225179                                   492691   \n",
       "6    100    2                224954                                   685548   \n",
       "7    100    3                230868                                  1062484   \n",
       "8    100    4                230655                                   596687   \n",
       "9    100    5                224027                                   579145   \n",
       "10  1000    1              21845399                                 47086142   \n",
       "11  1000    2              22503545                                 47557294   \n",
       "12  1000    3              22449011                                 47027564   \n",
       "13  1000    4              21808371                                 46989342   \n",
       "14  1000    5              21793035                                 47565443   \n",
       "\n",
       "    jacobi2D-omp_crunchy4  jacobi2D-omp_laptop  jacobi2D-omp_mauler  \n",
       "0                 3869467                79251                64626  \n",
       "1                 3903125                25442                62799  \n",
       "2                 3926278                24723                64779  \n",
       "3                 3864763                21033                64820  \n",
       "4                 3871138                20687                63231  \n",
       "5                 3942070                73839               225253  \n",
       "6                 3914154                72827               225845  \n",
       "7                  405486                76498               225949  \n",
       "8                 3895513                72453               230387  \n",
       "9                 3924761                78413               225295  \n",
       "10                6944077              7032157             22376295  \n",
       "11                6916533              6291400             23219363  \n",
       "12                7054551              6769999             22188391  \n",
       "13                5993197              6500057             21984691  \n",
       "14                7056586              6462039             21998788  "
      ]
     },
     "execution_count": 7,
     "metadata": {},
     "output_type": "execute_result"
    }
   ],
   "source": [
    "gb"
   ]
  },
  {
   "cell_type": "markdown",
   "metadata": {},
   "source": [
    "There are a few runs where the timing is much greater than the others; instead of taking a mean value over the runs I calculate the median run time here."
   ]
  },
  {
   "cell_type": "code",
   "execution_count": 8,
   "metadata": {
    "collapsed": false
   },
   "outputs": [
    {
     "data": {
      "text/html": [
       "<div>\n",
       "<table border=\"1\" class=\"dataframe\">\n",
       "  <thead>\n",
       "    <tr style=\"text-align: right;\">\n",
       "      <th></th>\n",
       "      <th>jacobi2D-omp_brawler</th>\n",
       "      <th>jacobi2D-omp_brawler_no_l2norm_parallel</th>\n",
       "      <th>jacobi2D-omp_crunchy4</th>\n",
       "      <th>jacobi2D-omp_laptop</th>\n",
       "      <th>jacobi2D-omp_mauler</th>\n",
       "    </tr>\n",
       "    <tr>\n",
       "      <th>N</th>\n",
       "      <th></th>\n",
       "      <th></th>\n",
       "      <th></th>\n",
       "      <th></th>\n",
       "      <th></th>\n",
       "    </tr>\n",
       "  </thead>\n",
       "  <tbody>\n",
       "    <tr>\n",
       "      <th>50</th>\n",
       "      <td>62954</td>\n",
       "      <td>122655</td>\n",
       "      <td>3871138</td>\n",
       "      <td>24723</td>\n",
       "      <td>64626</td>\n",
       "    </tr>\n",
       "    <tr>\n",
       "      <th>100</th>\n",
       "      <td>225179</td>\n",
       "      <td>596687</td>\n",
       "      <td>3914154</td>\n",
       "      <td>73839</td>\n",
       "      <td>225845</td>\n",
       "    </tr>\n",
       "    <tr>\n",
       "      <th>1000</th>\n",
       "      <td>21845399</td>\n",
       "      <td>47086142</td>\n",
       "      <td>6944077</td>\n",
       "      <td>6500057</td>\n",
       "      <td>22188391</td>\n",
       "    </tr>\n",
       "  </tbody>\n",
       "</table>\n",
       "</div>"
      ],
      "text/plain": [
       "      jacobi2D-omp_brawler  jacobi2D-omp_brawler_no_l2norm_parallel  \\\n",
       "N                                                                     \n",
       "50                   62954                                   122655   \n",
       "100                 225179                                   596687   \n",
       "1000              21845399                                 47086142   \n",
       "\n",
       "      jacobi2D-omp_crunchy4  jacobi2D-omp_laptop  jacobi2D-omp_mauler  \n",
       "N                                                                      \n",
       "50                  3871138                24723                64626  \n",
       "100                 3914154                73839               225845  \n",
       "1000                6944077              6500057             22188391  "
      ]
     },
     "execution_count": 8,
     "metadata": {},
     "output_type": "execute_result"
    }
   ],
   "source": [
    "g = gb.groupby(names[0])\n",
    "g.agg(np.median).drop('run', axis=1)"
   ]
  },
  {
   "cell_type": "markdown",
   "metadata": {},
   "source": [
    "Repeating for Jacobi:"
   ]
  },
  {
   "cell_type": "code",
   "execution_count": 9,
   "metadata": {
    "collapsed": true
   },
   "outputs": [],
   "source": [
    "gb = pd.read_csv(\"gs2D-omp_laptop\", header=None, delimiter=\" \", names=names).drop(\"usec\", axis=1)"
   ]
  },
  {
   "cell_type": "code",
   "execution_count": 10,
   "metadata": {
    "collapsed": false
   },
   "outputs": [],
   "source": [
    "for f in sorted(os.listdir('.')):\n",
    "    if f[:9]==\"gs2D-omp_\":\n",
    "        g = pd.read_csv(f, header=None, delimiter=\" \", names=names[:-1] + [f])\n",
    "        gb = gb.merge(g, on=names[:-1])"
   ]
  },
  {
   "cell_type": "code",
   "execution_count": 11,
   "metadata": {
    "collapsed": false
   },
   "outputs": [
    {
     "data": {
      "text/html": [
       "<div>\n",
       "<table border=\"1\" class=\"dataframe\">\n",
       "  <thead>\n",
       "    <tr style=\"text-align: right;\">\n",
       "      <th></th>\n",
       "      <th>N</th>\n",
       "      <th>run</th>\n",
       "      <th>gs2D-omp_brawler</th>\n",
       "      <th>gs2D-omp_crunchy4</th>\n",
       "      <th>gs2D-omp_laptop</th>\n",
       "      <th>gs2D-omp_mauler</th>\n",
       "      <th>gs2D-omp_mauler_no_l2norm_parallel</th>\n",
       "    </tr>\n",
       "  </thead>\n",
       "  <tbody>\n",
       "    <tr>\n",
       "      <th>0</th>\n",
       "      <td>50</td>\n",
       "      <td>1</td>\n",
       "      <td>124188</td>\n",
       "      <td>3893753</td>\n",
       "      <td>85588</td>\n",
       "      <td>126195</td>\n",
       "      <td>134271</td>\n",
       "    </tr>\n",
       "    <tr>\n",
       "      <th>1</th>\n",
       "      <td>50</td>\n",
       "      <td>2</td>\n",
       "      <td>125482</td>\n",
       "      <td>3838401</td>\n",
       "      <td>85986</td>\n",
       "      <td>211472</td>\n",
       "      <td>126126</td>\n",
       "    </tr>\n",
       "    <tr>\n",
       "      <th>2</th>\n",
       "      <td>50</td>\n",
       "      <td>3</td>\n",
       "      <td>124588</td>\n",
       "      <td>3890386</td>\n",
       "      <td>80742</td>\n",
       "      <td>124792</td>\n",
       "      <td>179788</td>\n",
       "    </tr>\n",
       "    <tr>\n",
       "      <th>3</th>\n",
       "      <td>50</td>\n",
       "      <td>4</td>\n",
       "      <td>124582</td>\n",
       "      <td>3876093</td>\n",
       "      <td>84353</td>\n",
       "      <td>124500</td>\n",
       "      <td>125224</td>\n",
       "    </tr>\n",
       "    <tr>\n",
       "      <th>4</th>\n",
       "      <td>50</td>\n",
       "      <td>5</td>\n",
       "      <td>125483</td>\n",
       "      <td>3887672</td>\n",
       "      <td>83798</td>\n",
       "      <td>125350</td>\n",
       "      <td>124929</td>\n",
       "    </tr>\n",
       "    <tr>\n",
       "      <th>5</th>\n",
       "      <td>100</td>\n",
       "      <td>1</td>\n",
       "      <td>483850</td>\n",
       "      <td>3859820</td>\n",
       "      <td>309043</td>\n",
       "      <td>484326</td>\n",
       "      <td>487323</td>\n",
       "    </tr>\n",
       "    <tr>\n",
       "      <th>6</th>\n",
       "      <td>100</td>\n",
       "      <td>2</td>\n",
       "      <td>841047</td>\n",
       "      <td>3898532</td>\n",
       "      <td>310122</td>\n",
       "      <td>1353349</td>\n",
       "      <td>490656</td>\n",
       "    </tr>\n",
       "    <tr>\n",
       "      <th>7</th>\n",
       "      <td>100</td>\n",
       "      <td>3</td>\n",
       "      <td>483088</td>\n",
       "      <td>2820291</td>\n",
       "      <td>311661</td>\n",
       "      <td>497028</td>\n",
       "      <td>497853</td>\n",
       "    </tr>\n",
       "    <tr>\n",
       "      <th>8</th>\n",
       "      <td>100</td>\n",
       "      <td>4</td>\n",
       "      <td>483126</td>\n",
       "      <td>3886792</td>\n",
       "      <td>314079</td>\n",
       "      <td>483626</td>\n",
       "      <td>484107</td>\n",
       "    </tr>\n",
       "    <tr>\n",
       "      <th>9</th>\n",
       "      <td>100</td>\n",
       "      <td>5</td>\n",
       "      <td>489542</td>\n",
       "      <td>3962736</td>\n",
       "      <td>313914</td>\n",
       "      <td>580930</td>\n",
       "      <td>486020</td>\n",
       "    </tr>\n",
       "    <tr>\n",
       "      <th>10</th>\n",
       "      <td>1000</td>\n",
       "      <td>1</td>\n",
       "      <td>46242520</td>\n",
       "      <td>32425595</td>\n",
       "      <td>25087905</td>\n",
       "      <td>46590516</td>\n",
       "      <td>47566617</td>\n",
       "    </tr>\n",
       "    <tr>\n",
       "      <th>11</th>\n",
       "      <td>1000</td>\n",
       "      <td>2</td>\n",
       "      <td>47183560</td>\n",
       "      <td>32286412</td>\n",
       "      <td>25479990</td>\n",
       "      <td>46820416</td>\n",
       "      <td>47573191</td>\n",
       "    </tr>\n",
       "    <tr>\n",
       "      <th>12</th>\n",
       "      <td>1000</td>\n",
       "      <td>3</td>\n",
       "      <td>46306250</td>\n",
       "      <td>32326000</td>\n",
       "      <td>25177850</td>\n",
       "      <td>46644781</td>\n",
       "      <td>46385122</td>\n",
       "    </tr>\n",
       "    <tr>\n",
       "      <th>13</th>\n",
       "      <td>1000</td>\n",
       "      <td>4</td>\n",
       "      <td>46119539</td>\n",
       "      <td>32287583</td>\n",
       "      <td>23282460</td>\n",
       "      <td>46665327</td>\n",
       "      <td>46865096</td>\n",
       "    </tr>\n",
       "    <tr>\n",
       "      <th>14</th>\n",
       "      <td>1000</td>\n",
       "      <td>5</td>\n",
       "      <td>46696857</td>\n",
       "      <td>32292971</td>\n",
       "      <td>23516537</td>\n",
       "      <td>47380288</td>\n",
       "      <td>46662648</td>\n",
       "    </tr>\n",
       "  </tbody>\n",
       "</table>\n",
       "</div>"
      ],
      "text/plain": [
       "       N  run  gs2D-omp_brawler  gs2D-omp_crunchy4  gs2D-omp_laptop  \\\n",
       "0     50    1            124188            3893753            85588   \n",
       "1     50    2            125482            3838401            85986   \n",
       "2     50    3            124588            3890386            80742   \n",
       "3     50    4            124582            3876093            84353   \n",
       "4     50    5            125483            3887672            83798   \n",
       "5    100    1            483850            3859820           309043   \n",
       "6    100    2            841047            3898532           310122   \n",
       "7    100    3            483088            2820291           311661   \n",
       "8    100    4            483126            3886792           314079   \n",
       "9    100    5            489542            3962736           313914   \n",
       "10  1000    1          46242520           32425595         25087905   \n",
       "11  1000    2          47183560           32286412         25479990   \n",
       "12  1000    3          46306250           32326000         25177850   \n",
       "13  1000    4          46119539           32287583         23282460   \n",
       "14  1000    5          46696857           32292971         23516537   \n",
       "\n",
       "    gs2D-omp_mauler  gs2D-omp_mauler_no_l2norm_parallel  \n",
       "0            126195                              134271  \n",
       "1            211472                              126126  \n",
       "2            124792                              179788  \n",
       "3            124500                              125224  \n",
       "4            125350                              124929  \n",
       "5            484326                              487323  \n",
       "6           1353349                              490656  \n",
       "7            497028                              497853  \n",
       "8            483626                              484107  \n",
       "9            580930                              486020  \n",
       "10         46590516                            47566617  \n",
       "11         46820416                            47573191  \n",
       "12         46644781                            46385122  \n",
       "13         46665327                            46865096  \n",
       "14         47380288                            46662648  "
      ]
     },
     "execution_count": 11,
     "metadata": {},
     "output_type": "execute_result"
    }
   ],
   "source": [
    "gb"
   ]
  },
  {
   "cell_type": "code",
   "execution_count": 12,
   "metadata": {
    "collapsed": false
   },
   "outputs": [
    {
     "data": {
      "text/html": [
       "<div>\n",
       "<table border=\"1\" class=\"dataframe\">\n",
       "  <thead>\n",
       "    <tr style=\"text-align: right;\">\n",
       "      <th></th>\n",
       "      <th>gs2D-omp_brawler</th>\n",
       "      <th>gs2D-omp_crunchy4</th>\n",
       "      <th>gs2D-omp_laptop</th>\n",
       "      <th>gs2D-omp_mauler</th>\n",
       "      <th>gs2D-omp_mauler_no_l2norm_parallel</th>\n",
       "    </tr>\n",
       "    <tr>\n",
       "      <th>N</th>\n",
       "      <th></th>\n",
       "      <th></th>\n",
       "      <th></th>\n",
       "      <th></th>\n",
       "      <th></th>\n",
       "    </tr>\n",
       "  </thead>\n",
       "  <tbody>\n",
       "    <tr>\n",
       "      <th>50</th>\n",
       "      <td>124588</td>\n",
       "      <td>3887672</td>\n",
       "      <td>84353</td>\n",
       "      <td>125350</td>\n",
       "      <td>126126</td>\n",
       "    </tr>\n",
       "    <tr>\n",
       "      <th>100</th>\n",
       "      <td>483850</td>\n",
       "      <td>3886792</td>\n",
       "      <td>311661</td>\n",
       "      <td>497028</td>\n",
       "      <td>487323</td>\n",
       "    </tr>\n",
       "    <tr>\n",
       "      <th>1000</th>\n",
       "      <td>46306250</td>\n",
       "      <td>32292971</td>\n",
       "      <td>25087905</td>\n",
       "      <td>46665327</td>\n",
       "      <td>46865096</td>\n",
       "    </tr>\n",
       "  </tbody>\n",
       "</table>\n",
       "</div>"
      ],
      "text/plain": [
       "      gs2D-omp_brawler  gs2D-omp_crunchy4  gs2D-omp_laptop  gs2D-omp_mauler  \\\n",
       "N                                                                             \n",
       "50              124588            3887672            84353           125350   \n",
       "100             483850            3886792           311661           497028   \n",
       "1000          46306250           32292971         25087905         46665327   \n",
       "\n",
       "      gs2D-omp_mauler_no_l2norm_parallel  \n",
       "N                                         \n",
       "50                                126126  \n",
       "100                               487323  \n",
       "1000                            46865096  "
      ]
     },
     "execution_count": 12,
     "metadata": {},
     "output_type": "execute_result"
    }
   ],
   "source": [
    "g = gb.groupby(names[0])\n",
    "g.agg(np.median).drop('run', axis=1)"
   ]
  }
 ],
 "metadata": {
  "anaconda-cloud": {},
  "kernelspec": {
   "display_name": "Python [default]",
   "language": "python",
   "name": "python2"
  },
  "language_info": {
   "codemirror_mode": {
    "name": "ipython",
    "version": 2
   },
   "file_extension": ".py",
   "mimetype": "text/x-python",
   "name": "python",
   "nbconvert_exporter": "python",
   "pygments_lexer": "ipython2",
   "version": "2.7.12"
  }
 },
 "nbformat": 4,
 "nbformat_minor": 1
}
